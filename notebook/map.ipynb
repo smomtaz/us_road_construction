{
 "cells": [
  {
   "cell_type": "markdown",
   "id": "38534956",
   "metadata": {},
   "source": [
    "# Construction Impact with interactive map\n",
    "\n",
    "### A interactive mapping tool focuses on Road Construction may impact the selected 5 routes in Bay Area CA.\n",
    "\n",
    "### The Map used multiple market segmentation to get more focused data-driven insight that includes:\n",
    "- **Year** of construction\n",
    "- **Road/Lane closure** due to construction\n",
    "- **Severity** of construction\n",
    "\n",
    "#### The tool can be used to design scenario testing "
   ]
  },
  {
   "cell_type": "code",
   "execution_count": 1,
   "id": "ed08f7dc",
   "metadata": {},
   "outputs": [],
   "source": [
    "import warnings\n",
    "warnings.filterwarnings(\"ignore\")\n",
    "\n",
    "import pandas as pd\n",
    "import geopandas as gpd\n",
    "from shapely import wkt\n",
    "from datetime import datetime, timedelta\n",
    "import datetime as dt\n",
    "import os\n",
    "import matplotlib.pyplot as plt\n",
    "import numpy as np\n",
    "import seaborn as sns\n",
    "from os.path import join as join\n",
    "\n",
    "from ipyleaflet import Map, GeoData, LayersControl, basemaps\n",
    "import matplotlib.colors as mcolors\n",
    "import requests\n",
    "import io\n",
    "from ipywidgets import VBox\n",
    "import ipywidgets as widgets\n",
    "from ipyleaflet import Map, Heatmap, GeoData, LayersControl, basemaps\n",
    "import gdown"
   ]
  },
  {
   "cell_type": "code",
   "execution_count": 2,
   "id": "cbcf4075",
   "metadata": {},
   "outputs": [],
   "source": [
    "route_url = \"https://drive.google.com/uc?export=download&id=1qpx8iktc2wfwCE_2sMv5ODaB3PV4z7HH\"\n",
    "\n",
    "response = requests.get(route_url)\n",
    "response.raise_for_status()\n",
    "df_routes = gpd.read_parquet(io.BytesIO(response.content))"
   ]
  },
  {
   "cell_type": "code",
   "execution_count": 5,
   "id": "4ce60860",
   "metadata": {},
   "outputs": [
    {
     "name": "stderr",
     "output_type": "stream",
     "text": [
      "Downloading...\n",
      "From: https://drive.google.com/uc?id=1ROIjuQEbLn74Zs2INz5bfqfe6DZP-Vn2\n",
      "To: c:\\Users\\smomt\\OneDrive\\Documents\\work\\Interview\\Aurora\\Take Home\\git\\us_road_construction\\notebook\\matched_construction_routes.parquet\n",
      "100%|██████████| 217k/217k [00:00<00:00, 1.98MB/s]\n"
     ]
    }
   ],
   "source": [
    "# cons_url = \"https://drive.google.com/uc?export=download&id=1ROIjuQEbLn74Zs2INz5bfqfe6DZP-Vn2\"\n",
    "\n",
    "# cons_response = requests.get(cons_url)\n",
    "# cons_response.raise_for_status()\n",
    "# matched_df = gpd.read_parquet(io.BytesIO(cons_response.content))\n",
    "\n",
    "url = \"https://drive.google.com/uc?id=1ROIjuQEbLn74Zs2INz5bfqfe6DZP-Vn2\"\n",
    "\n",
    "output = \"matched_construction_routes.parquet\"\n",
    "gdown.download(url, output, quiet=False)\n",
    "\n",
    "matched_df = pd.read_parquet(output)"
   ]
  },
  {
   "cell_type": "code",
   "execution_count": 6,
   "id": "95180b0c",
   "metadata": {},
   "outputs": [
    {
     "data": {
      "application/vnd.jupyter.widget-view+json": {
       "model_id": "5d93f6497f544c61a7d3ec3a0d4ccc8e",
       "version_major": 2,
       "version_minor": 0
      },
      "text/plain": [
       "VBox(children=(ToggleButtons(button_style='success', description='Year:', options=(('5 Years (2016-2021)', 'al…"
      ]
     },
     "metadata": {},
     "output_type": "display_data"
    }
   ],
   "source": [
    "# widget for selections\n",
    "years = sorted(matched_df['year'].dropna().unique())\n",
    "severity = sorted(matched_df['Severity'].dropna().unique())\n",
    "road_closure = sorted(matched_df['road_closure'].dropna().unique())\n",
    "\n",
    "\n",
    "# ToggleButtons\n",
    "year_toggle = widgets.ToggleButtons(\n",
    "    options = [('5 Years (2016-2021)', 'all')] + [(str(int(y)), int(y)) for y in years],\n",
    "    value = 'all',\n",
    "    description = 'Year:',\n",
    "    style = {'description_width': 'initial'},\n",
    "    button_style = 'success', # 'success', 'info', 'warning', 'danger' or ''\n",
    ")\n",
    "\n",
    "severity_toggle = widgets.ToggleButtons(\n",
    "    options = [('All', 'all')] + [(str(int(y)), int(y)) for y in severity],\n",
    "    value = 'all',\n",
    "    description = 'Severity:',\n",
    "    style = {'description_width': 'initial'},\n",
    "    button_style = 'info', # 'success', 'info', 'warning', 'danger' or ''\n",
    ")\n",
    "\n",
    "road_closure_toggle = widgets.ToggleButtons(\n",
    "    options=[('All', 'all')] + [(y, y) for y in road_closure],\n",
    "    value='all',\n",
    "    description='Road/Lane Closure:',\n",
    "    style={'description_width': 'initial'},\n",
    "    button_style='success', # 'success', 'info', 'warning', 'danger' or ''\n",
    ")\n",
    "\n",
    "def create_heatmap(year, severity, road_closure):\n",
    "    if year == 'all':\n",
    "        df = matched_df\n",
    "    else:\n",
    "        df = matched_df[matched_df['year'] == year]\n",
    "\n",
    "    if severity_toggle.value == 'all':\n",
    "        df = df\n",
    "    else:\n",
    "        df = df[df['Severity'] == severity]\n",
    "\n",
    "    if road_closure_toggle.value == 'all':\n",
    "        df = df\n",
    "    else:\n",
    "        df = df[df['road_closure'] == road_closure]\n",
    "    \n",
    "    \n",
    "    heat_df = df[['lat', 'lng', 'duration']].dropna()\n",
    "    heat_df = heat_df.groupby(['lat', 'lng'], as_index = False)['duration'].sum()\n",
    "    heat_data = heat_df[['lat', 'lng', 'duration']].values.tolist()\n",
    "\n",
    "    center = [matched_df['lat'].mean(), matched_df['lng'].mean()]\n",
    "    m = Map(center=center, zoom=11, basemap=basemaps.CartoDB.DarkMatter, scroll_wheel_zoom=True, layout={'height': '650px'})\n",
    "\n",
    "    heatmap = Heatmap(locations=heat_data, radius=12, blur=10, min_opacity=0.4, name='Construction Heatmap')\n",
    "    m.add_layer(heatmap)\n",
    "\n",
    "    routes_layer = GeoData(\n",
    "        geo_dataframe=df_routes,\n",
    "        style_callback=lambda feat: {\n",
    "            'color': color_map.get(feat['properties']['path_name'], 'white'),\n",
    "            'weight': 4,\n",
    "            'opacity': 0.7\n",
    "        },\n",
    "        name='Routes',\n",
    "        hover_style={'fillColor': 'yellow', 'color': 'yellow', 'weight': 6, 'fillOpacity': 0.2},\n",
    "        tooltip=True,\n",
    "        tooltip_property='path_name'\n",
    "    )\n",
    "    m.add_layer(routes_layer)\n",
    "    m.add_control(LayersControl())\n",
    "    return m\n",
    "\n",
    "map_output = widgets.Output()\n",
    "\n",
    "def update_map(change):\n",
    "    with map_output:\n",
    "        map_output.clear_output()\n",
    "        selected_year = year_toggle.value\n",
    "        selected_severity = severity_toggle.value\n",
    "        selected_road_closure = road_closure_toggle.value\n",
    "        display(create_heatmap(selected_year, selected_severity, selected_road_closure))\n",
    "\n",
    "year_toggle.observe(update_map, names='value')\n",
    "severity_toggle.observe(update_map, names='value')\n",
    "road_closure_toggle.observe(update_map, names='value')\n",
    "\n",
    "# Initialization\n",
    "with map_output:\n",
    "    display(create_heatmap('all', 'all', 'all'))\n",
    "\n",
    "display(widgets.VBox([year_toggle, severity_toggle, road_closure_toggle, map_output]))"
   ]
  },
  {
   "cell_type": "code",
   "execution_count": null,
   "id": "f098f81c",
   "metadata": {},
   "outputs": [],
   "source": []
  }
 ],
 "metadata": {
  "kernelspec": {
   "display_name": "smaurora",
   "language": "python",
   "name": "python3"
  },
  "language_info": {
   "codemirror_mode": {
    "name": "ipython",
    "version": 3
   },
   "file_extension": ".py",
   "mimetype": "text/x-python",
   "name": "python",
   "nbconvert_exporter": "python",
   "pygments_lexer": "ipython3",
   "version": "3.10.18"
  }
 },
 "nbformat": 4,
 "nbformat_minor": 5
}
